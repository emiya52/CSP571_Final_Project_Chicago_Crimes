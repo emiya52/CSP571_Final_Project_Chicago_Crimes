{
 "cells": [
  {
   "cell_type": "code",
   "execution_count": 2,
   "metadata": {},
   "outputs": [
    {
     "name": "stdout",
     "output_type": "stream",
     "text": [
      "Training and evaluating model: Multinomial Logistic Regression\n"
     ]
    },
    {
     "ename": "IndexError",
     "evalue": "index 131315 is out of bounds for axis 0 with size 131310",
     "output_type": "error",
     "traceback": [
      "\u001b[0;31m---------------------------------------------------------------------------\u001b[0m",
      "\u001b[0;31mIndexError\u001b[0m                                Traceback (most recent call last)",
      "\u001b[1;32m/Users/emiya/Desktop/cs584-project/Model_training_SKCV.ipynb Cell 1\u001b[0m line \u001b[0;36m7\n\u001b[1;32m     <a href='vscode-notebook-cell:/Users/emiya/Desktop/cs584-project/Model_training_SKCV.ipynb#W0sZmlsZQ%3D%3D?line=73'>74</a>\u001b[0m accuracy_scores \u001b[39m=\u001b[39m []\n\u001b[1;32m     <a href='vscode-notebook-cell:/Users/emiya/Desktop/cs584-project/Model_training_SKCV.ipynb#W0sZmlsZQ%3D%3D?line=74'>75</a>\u001b[0m \u001b[39mfor\u001b[39;00m train_index, val_index \u001b[39min\u001b[39;00m skf\u001b[39m.\u001b[39msplit(X_train, y_train):\n\u001b[0;32m---> <a href='vscode-notebook-cell:/Users/emiya/Desktop/cs584-project/Model_training_SKCV.ipynb#W0sZmlsZQ%3D%3D?line=75'>76</a>\u001b[0m     X_traink, X_valk \u001b[39m=\u001b[39m X_train[train_index], X_val[val_index]\n\u001b[1;32m     <a href='vscode-notebook-cell:/Users/emiya/Desktop/cs584-project/Model_training_SKCV.ipynb#W0sZmlsZQ%3D%3D?line=76'>77</a>\u001b[0m     y_traink, y_valk \u001b[39m=\u001b[39m y_train[train_index], y_val[val_index]\n\u001b[1;32m     <a href='vscode-notebook-cell:/Users/emiya/Desktop/cs584-project/Model_training_SKCV.ipynb#W0sZmlsZQ%3D%3D?line=78'>79</a>\u001b[0m     \u001b[39mtry\u001b[39;00m:\n",
      "\u001b[0;31mIndexError\u001b[0m: index 131315 is out of bounds for axis 0 with size 131310"
     ]
    }
   ],
   "source": [
    "import pandas as pd\n",
    "from sklearn.preprocessing import MinMaxScaler\n",
    "from sklearn.model_selection import train_test_split\n",
    "from sklearn.preprocessing import LabelEncoder, OneHotEncoder\n",
    "from sklearn.metrics import accuracy_score, classification_report\n",
    "from sklearn.linear_model import LogisticRegression\n",
    "from sklearn.tree import DecisionTreeClassifier\n",
    "from sklearn.ensemble import RandomForestClassifier\n",
    "from sklearn.naive_bayes import MultinomialNB\n",
    "from sklearn.neighbors import KNeighborsClassifier\n",
    "from sklearn.svm import SVC\n",
    "from sklearn.neural_network import MLPClassifier\n",
    "from sklearn.model_selection import StratifiedKFold\n",
    "\n",
    "years = [2022, 2021, 2020]\n",
    "# Number of folds\n",
    "n_folds = 5\n",
    "# Initialize StratifiedKFold\n",
    "skf = StratifiedKFold(n_splits=n_folds, shuffle=True, random_state=42)\n",
    "\n",
    "\n",
    "\n",
    "# Initialize an empty list to store DataFrames\n",
    "dfs = []\n",
    "\n",
    "# Loop through each year, read the corresponding file and append to the list\n",
    "for year in years:\n",
    "    file_path = f'cleaned_datasets/Cleaned_Crimes_{year}.csv'  # Adjust the file path as needed\n",
    "    df = pd.read_csv(file_path)\n",
    "    dfs.append(df)\n",
    "\n",
    "# Concatenate all DataFrames in the list into one\n",
    "combined_df = pd.concat(dfs, ignore_index=True)\n",
    "\n",
    "# Parse the date column to extract day, month, and year\n",
    "combined_df['Date'] = pd.to_datetime(combined_df['Date'])\n",
    "combined_df['Day'] = combined_df['Date'].dt.day\n",
    "combined_df['Month'] = combined_df['Date'].dt.month\n",
    "combined_df['Year'] = combined_df['Date'].dt.year\n",
    "\n",
    "combined_df['Location Description'], _ = pd.factorize(combined_df['Location Description'])\n",
    "combined_df['Primary Type'], _ = pd.factorize(combined_df['Primary Type'])\n",
    "\n",
    "# Selecting relevant columns\n",
    "features = ['Community Area', 'Location Description', 'Day', 'Month', 'Year']\n",
    "target = 'Primary Type'\n",
    "\n",
    "# Split the dataset\n",
    "X = combined_df[features]\n",
    "y = combined_df[target]\n",
    "\n",
    "# Scale the features\n",
    "scaler = MinMaxScaler()\n",
    "X_scaled = scaler.fit_transform(X)\n",
    "\n",
    "X_train, X_temp, y_train, y_temp = train_test_split(X_scaled, y, test_size=0.4, random_state=42)\n",
    "X_test, X_val, y_test, y_val = train_test_split(X_temp, y_temp, test_size=0.5, random_state=42)\n",
    "\n",
    "\n",
    "# models to train\n",
    "models = {\n",
    "    'Multinomial Logistic Regression': LogisticRegression(multi_class='multinomial', max_iter=1000),\n",
    "    #'Decision Tree': DecisionTreeClassifier(),\n",
    "    #'Random Forest': RandomForestClassifier(),\n",
    "    #'Naïve Bayes': MultinomialNB(),\n",
    "    #'K-nearest Neighbors': KNeighborsClassifier(),\n",
    "    #'Support Vector Machine': SVC(),\n",
    "    #'Neural Network': MLPClassifier(max_iter=1000)\n",
    "}\n",
    "\n",
    "for name, model in models.items():\n",
    "    print(f\"Training and evaluating model: {name}\")\n",
    "\n",
    "    accuracy_scores = []\n",
    "    for train_index, val_index in skf.split(X_train, y_train):\n",
    "        X_traink, X_valk = X_train[train_index], X_train[val_index]\n",
    "        y_traink, y_valk = y_train[train_index], y_train[val_index]\n",
    "\n",
    "        try:\n",
    "            model.fit(X_train, y_train)\n",
    "            predictions = model.predict(X_val)\n",
    "            accuracy = accuracy_score(y_val, predictions)\n",
    "            accuracy_scores.append(accuracy)\n",
    "            print(f\"Fold accuracy: {accuracy}\")\n",
    "        except Exception as e:\n",
    "            print(f\"Error training {name}: {e}\")\n",
    "            continue\n",
    "\n",
    "    average_accuracy = np.mean(accuracy_scores)\n",
    "    print(f\"Average Accuracy for {name}: {average_accuracy}\\n\")\n"
   ]
  },
  {
   "cell_type": "code",
   "execution_count": null,
   "metadata": {},
   "outputs": [],
   "source": []
  },
  {
   "cell_type": "code",
   "execution_count": null,
   "metadata": {},
   "outputs": [],
   "source": []
  }
 ],
 "metadata": {
  "kernelspec": {
   "display_name": "Python 3",
   "language": "python",
   "name": "python3"
  },
  "language_info": {
   "codemirror_mode": {
    "name": "ipython",
    "version": 3
   },
   "file_extension": ".py",
   "mimetype": "text/x-python",
   "name": "python",
   "nbconvert_exporter": "python",
   "pygments_lexer": "ipython3",
   "version": "3.11.2"
  }
 },
 "nbformat": 4,
 "nbformat_minor": 2
}
